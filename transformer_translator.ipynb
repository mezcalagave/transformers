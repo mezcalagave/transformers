{
 "cells": [
  {
   "cell_type": "code",
   "execution_count": 1,
   "id": "latin-delay",
   "metadata": {},
   "outputs": [],
   "source": [
    "import pickle\n",
    "from pickle import dump"
   ]
  },
  {
   "cell_type": "code",
   "execution_count": 2,
   "id": "massive-empire",
   "metadata": {},
   "outputs": [],
   "source": [
    "def load_doc(filename):\n",
    "    file = open(filename, mode = 'rt', encoding = 'utf-8')\n",
    "    text = file.read()\n",
    "    file.close()\n",
    "    return text\n",
    "\n",
    "def to_sentences(doc):\n",
    "    return doc.strip().split('\\n')\n",
    "\n",
    "def sentence_lengths(sentences):\n",
    "    lengths = [len(s.split()) for s in sentences]\n",
    "    return min(lengths), max(lengths)"
   ]
  },
  {
   "cell_type": "code",
   "execution_count": 3,
   "id": "absent-spending",
   "metadata": {},
   "outputs": [],
   "source": [
    "import re\n",
    "import string\n",
    "import unicodedata\n",
    "def clean_lines(lines):\n",
    "    cleaned = list()\n",
    "    re_print = re.compile('[^%s]' % re.escape(string.printable))\n",
    "    table = str.maketrans('', '', string.punctuation)\n",
    "    for line in lines:\n",
    "        line = unicodedata.normalize('NFD', line).encode('ascii', 'ignore')\n",
    "        line = line.decode('UTF-8')\n",
    "        line = line.split()\n",
    "        line = [word.lower() for word in line]\n",
    "        line = [word.translate(table) for word in line]\n",
    "        line = [re_print.sub('', w) for w in line]\n",
    "        line = [word for word in line if word.isalpha()]\n",
    "        cleaned.append(' '.join(line))\n",
    "    return cleaned"
   ]
  },
  {
   "cell_type": "code",
   "execution_count": 4,
   "id": "induced-optics",
   "metadata": {},
   "outputs": [
    {
     "name": "stdout",
     "output_type": "stream",
     "text": [
      "English data: sentences=2007723, min = 0, max = 668\n"
     ]
    }
   ],
   "source": [
    "import os\n",
    "filename = os.getenv('HOME') + '/Desktop/dj_study/transformers/content/fr-en/europarl-v7.fr-en.en'\n",
    "doc = load_doc(filename)\n",
    "sentences = to_sentences(doc)\n",
    "minlen, maxlen = sentence_lengths(sentences)\n",
    "print(f'English data: sentences={len(sentences)}, min = {minlen}, max = {maxlen}')\n",
    "cleanf = clean_lines(sentences)"
   ]
  },
  {
   "cell_type": "code",
   "execution_count": 5,
   "id": "serious-black",
   "metadata": {},
   "outputs": [
    {
     "name": "stdout",
     "output_type": "stream",
     "text": [
      "/home/aiffel-dj46/Desktop/dj_study/transformers/content/fr-en/europarl-v7.fr-en.en  saved\n"
     ]
    }
   ],
   "source": [
    "eng_filename = os.getenv('HOME') + '/Desktop/dj_study/transformers/content/fr-en/English.pkl'\n",
    "outfile = open(eng_filename, 'wb')\n",
    "pickle.dump(cleanf, outfile)\n",
    "outfile.close()\n",
    "print(filename, ' saved')"
   ]
  },
  {
   "cell_type": "code",
   "execution_count": 6,
   "id": "metallic-parent",
   "metadata": {},
   "outputs": [
    {
     "name": "stdout",
     "output_type": "stream",
     "text": [
      "French data: sentences=2007723, min = 0, max = 693\n",
      "/home/aiffel-dj46/Desktop/dj_study/transformers/content/fr-en/europarl-v7.fr-en.fr  saved\n"
     ]
    }
   ],
   "source": [
    "filename = os.getenv('HOME') + '/Desktop/dj_study/transformers/content/fr-en/europarl-v7.fr-en.fr'\n",
    "doc = load_doc(filename)\n",
    "sentences = to_sentences(doc)\n",
    "minlen, maxlen = sentence_lengths(sentences)\n",
    "print(f'French data: sentences={len(sentences)}, min = {minlen}, max = {maxlen}')\n",
    "cleanf = clean_lines(sentences)\n",
    "fr_filename = os.getenv('HOME') + '/Desktop/dj_study/transformers/content/fr-en/French.pkl'\n",
    "outfile = open(fr_filename, 'wb')\n",
    "pickle.dump(cleanf, outfile)\n",
    "outfile.close()\n",
    "print(filename, ' saved')"
   ]
  },
  {
   "cell_type": "code",
   "execution_count": 9,
   "id": "southern-portland",
   "metadata": {},
   "outputs": [],
   "source": [
    "from pickle import load\n",
    "from pickle import dump\n",
    "from collections import Counter\n",
    "\n",
    "def load_clean_sentences(filename):\n",
    "    return load(open(filename, 'rb'))\n",
    "\n",
    "def save_clean_sentences(sentences, filename):\n",
    "    dump(sentences, open(filename, 'wb'))\n",
    "    print(f'Saved: {filename}')\n",
    "\n",
    "def to_vocab(lines):\n",
    "    vocab = Counter()\n",
    "    for line in lines:\n",
    "        tokens = line.split()\n",
    "        vocab.update(tokens)\n",
    "    return vocab\n",
    "\n",
    "def trim_vocab(vocab, min_occurance):\n",
    "    tokens = [k for k, c in vocab.items() if c >= min_occurance]\n",
    "    return set(tokens)\n",
    "\n",
    "def update_dataset(lines, vocab):\n",
    "    new_lines = list()\n",
    "    for line in lines:\n",
    "        new_tokens = list()\n",
    "        for token in line.split():\n",
    "            if token in vocab:\n",
    "                new_tokens.append(token)\n",
    "                \n",
    "            else:\n",
    "                new_tokens.append('unk')\n",
    "        new_line = ' '.join(new_tokens)\n",
    "        new_lines.append(new_line)\n",
    "    return new_lines"
   ]
  },
  {
   "cell_type": "code",
   "execution_count": 11,
   "id": "automated-stick",
   "metadata": {},
   "outputs": [
    {
     "name": "stdout",
     "output_type": "stream",
     "text": [
      "Vocabulary: 105357\n",
      "new_vocabulary : 41746\n",
      "Saved: /home/aiffel-dj46/Desktop/dj_study/transformers/content/fr-en/english_vocab.pkl\n",
      "line 0 : resumption of the session\n",
      "line 1 : i declare resumed the session of the european parliament adjourned on friday december and i would like once again to wish you a happy new year in the hope that you enjoyed a pleasant festive period\n",
      "line 2 : although as you will have seen the dreaded millennium bug failed to materialise still the people in a number of countries suffered a series of natural disasters that truly were dreadful\n",
      "line 3 : you have requested a debate on this subject in the course of the next few days during this partsession\n",
      "line 4 : in the meantime i should like to observe a minute s silence as a number of members have requested on behalf of all the victims concerned particularly those of the terrible storms in the various countries of the european union\n",
      "line 5 : please rise then for this minute s silence\n",
      "line 6 : the house rose and observed a minute s silence\n",
      "line 7 : madam president on a point of order\n",
      "line 8 : you will be aware from the press and television that there have been a number of bomb explosions and killings in sri lanka\n",
      "line 9 : one of the people assassinated very recently in sri lanka was mr unk unk who had visited the european parliament just a few months ago\n",
      "line 10 : would it be appropriate for you madam president to write a letter to the sri lankan president expressing parliaments regret at his and the other violent deaths in sri lanka and urging her to do everything she possibly can to seek a peaceful reconciliation to a very difficult situation\n",
      "line 11 : yes mr evans i feel an initiative of the type you have just suggested would be entirely appropriate\n",
      "line 12 : if the house agrees i shall do as mr evans has suggested\n",
      "line 13 : madam president on a point of order\n",
      "line 14 : i would like your advice about rule concerning inadmissibility\n",
      "line 15 : my question relates to something that will come up on thursday and which i will then raise again\n",
      "line 16 : the cunha report on multiannual guidance programmes comes before parliament on thursday and contains a proposal in paragraph that a form of quota penalties should be introduced for countries which fail to meet their fleet reduction targets annually\n",
      "line 17 : it says that this should be done despite the principle of relative stability\n",
      "line 18 : i believe that the principle of relative stability is a fundamental legal principle of the common fisheries policy and a proposal to subvert it would be legally inadmissible\n",
      "line 19 : i want to know whether one can raise an objection of that kind to what is merely a report not a legislative proposal and whether that is something i can competently do on thursday\n"
     ]
    }
   ],
   "source": [
    "lines = load_clean_sentences(eng_filename)\n",
    "vocab = to_vocab(lines)\n",
    "print(f'Vocabulary: {len(vocab)}')\n",
    "vocab = trim_vocab(vocab, 5)\n",
    "print(f'new_vocabulary : {len(vocab)}')\n",
    "lines = update_dataset(lines, vocab)\n",
    "filename = os.getenv('HOME') + '/Desktop/dj_study/transformers/content/fr-en/english_vocab.pkl'\n",
    "save_clean_sentences(lines, filename)\n",
    "for i in range(20):\n",
    "    print('line', i, \":\", lines[i])"
   ]
  },
  {
   "cell_type": "code",
   "execution_count": 13,
   "id": "sharing-measure",
   "metadata": {},
   "outputs": [
    {
     "name": "stdout",
     "output_type": "stream",
     "text": [
      "Vocabulary: 141642\n",
      "new_vocabulary : 58800\n",
      "Saved: /home/aiffel-dj46/Desktop/dj_study/transformers/content/fr-en/french_vocab.pkl\n",
      "line 0 : reprise de la session\n",
      "line 1 : je declare reprise la session du parlement europeen qui avait ete interrompue le vendredi decembre dernier et je vous renouvelle tous mes vux en esperant que vous avez passe de bonnes vacances\n",
      "line 2 : comme vous avez pu le constater le grand bogue de lan ne sest pas produit en revanche les citoyens dun certain nombre de nos pays ont ete victimes de catastrophes naturelles qui ont vraiment ete terribles\n",
      "line 3 : vous avez souhaite un debat a ce sujet dans les prochains jours au cours de cette periode de session\n",
      "line 4 : en attendant je souhaiterais comme un certain nombre de collegues me lont demande que nous observions une minute de silence pour toutes les victimes des tempetes notamment dans les differents pays de lunion europeenne qui ont ete touches\n",
      "line 5 : je vous invite a vous lever pour cette minute de silence\n",
      "line 6 : le parlement debout observe une minute de silence\n",
      "line 7 : madame la presidente cest une motion de procedure\n",
      "line 8 : vous avez probablement appris par la presse et par la television que plusieurs attentats a la bombe et crimes ont ete perpetres au sri lanka\n",
      "line 9 : lune des personnes qui vient detre assassinee au sri lanka est m unk unk qui avait rendu visite au parlement europeen il y a quelques mois a peine\n",
      "line 10 : ne pensezvous pas madame la presidente quil conviendrait decrire une lettre au president du sri lanka pour lui communiquer que le parlement deplore les morts violentes dont celle de m unk et pour linviter instamment a faire tout ce qui est en son pouvoir pour chercher une reconciliation pacifique et mettre un terme a cette situation particulierement difficile\n",
      "line 11 : oui monsieur evans je pense quune initiative dans le sens que vous venez de suggerer serait tout a fait appropriee\n",
      "line 12 : si lassemblee en est daccord je ferai comme m evans la suggere\n",
      "line 13 : madame la presidente cest une motion de procedure\n",
      "line 14 : je voudrais vous demander un conseil au sujet de larticle qui concerne lirrecevabilite\n",
      "line 15 : ma question porte sur un sujet qui est a lordre du jour du jeudi et que je souleverai donc une nouvelle fois\n",
      "line 16 : le paragraphe du rapport cunha sur les programmes dorientation pluriannuels qui sera soumis au parlement ce jeudi propose dintroduire des sanctions applicables aux pays qui ne respectent pas les objectifs annuels de reduction de leur flotte\n",
      "line 17 : il precise que cela devrait etre fait malgre le principe de stabilite relative\n",
      "line 18 : a mon sens le principe de stabilite relative est un principe juridique fondamental de la politique commune de la peche et toute proposition le bouleversant serait juridiquement irrecevable\n",
      "line 19 : je voudrais savoir si lon peut avancer une objection de ce type a ce qui nest quun rapport pas une proposition legislative et si je suis habilite a le faire ce jeudi\n"
     ]
    }
   ],
   "source": [
    "lines = load_clean_sentences(fr_filename)\n",
    "vocab = to_vocab(lines)\n",
    "print(f'Vocabulary: {len(vocab)}')\n",
    "vocab = trim_vocab(vocab, 5)\n",
    "print(f'new_vocabulary : {len(vocab)}')\n",
    "lines = update_dataset(lines, vocab)\n",
    "filename = os.getenv('HOME') + '/Desktop/dj_study/transformers/content/fr-en/french_vocab.pkl'\n",
    "save_clean_sentences(lines, filename)\n",
    "for i in range(20):\n",
    "    print('line', i, \":\", lines[i])"
   ]
  },
  {
   "cell_type": "code",
   "execution_count": 14,
   "id": "impaired-contrary",
   "metadata": {},
   "outputs": [],
   "source": [
    "from nltk.translate.bleu_score import sentence_bleu\n",
    "from nltk.translate.bleu_score import SmoothingFunction"
   ]
  },
  {
   "cell_type": "code",
   "execution_count": 15,
   "id": "stock-acquisition",
   "metadata": {},
   "outputs": [],
   "source": [
    "import os\n",
    "import numpy as np\n",
    "import trax"
   ]
  },
  {
   "cell_type": "code",
   "execution_count": 16,
   "id": "impaired-skiing",
   "metadata": {},
   "outputs": [],
   "source": [
    "model = trax.models.Transformer(\n",
    "    input_vocab_size = 33300,\n",
    "    d_model = 512, d_ff = 2048,\n",
    "    n_heads = 8, n_encoder_layers = 6, n_decoder_layers = 6,\n",
    "    max_len = 2048, mode = 'predict')"
   ]
  },
  {
   "cell_type": "code",
   "execution_count": 18,
   "id": "ready-employer",
   "metadata": {},
   "outputs": [
    {
     "name": "stderr",
     "output_type": "stream",
     "text": [
      "WARNING:absl:No GPU/TPU found, falling back to CPU. (Set TF_CPP_MIN_LOG_LEVEL=0 and rerun for more info.)\n"
     ]
    }
   ],
   "source": [
    "model.init_from_file('gs://trax-ml/models/translation/ende_wmt32k.pkl.gz', weights_only = True)"
   ]
  },
  {
   "cell_type": "code",
   "execution_count": 19,
   "id": "relative-mozambique",
   "metadata": {},
   "outputs": [],
   "source": [
    "sentence = 'I am only a machine but I have machine intelligence.'\n",
    "\n",
    "tokenized = list(trax.data.tokenize(iter([sentence]),  # Operates on streams.\n",
    "                                    vocab_dir='gs://trax-ml/vocabs/',\n",
    "                                    vocab_file='ende_32k.subword'))[0]"
   ]
  },
  {
   "cell_type": "code",
   "execution_count": 20,
   "id": "mexican-vietnamese",
   "metadata": {},
   "outputs": [],
   "source": [
    "tokenized = tokenized[None, :]  # Add batch dimension.\n",
    "tokenized_translation = trax.supervised.decoding.autoregressive_sample(\n",
    "    model, tokenized, temperature=0.0)  # Higher temperature: more diverse results."
   ]
  },
  {
   "cell_type": "code",
   "execution_count": 21,
   "id": "animal-scroll",
   "metadata": {},
   "outputs": [
    {
     "name": "stdout",
     "output_type": "stream",
     "text": [
      "The sentence: I am only a machine but I have machine intelligence.\n",
      "The translation: Ich bin nur eine Maschine, aber ich habe Maschinenübersicht.\n"
     ]
    }
   ],
   "source": [
    "tokenized_translation = tokenized_translation[0][:-1]  # Remove batch and EOS.\n",
    "translation = trax.data.detokenize(tokenized_translation,\n",
    "                                   vocab_dir='gs://trax-ml/vocabs/',\n",
    "                                   vocab_file='ende_32k.subword')\n",
    "print(\"The sentence:\",sentence)\n",
    "print(\"The translation:\",translation)"
   ]
  },
  {
   "cell_type": "code",
   "execution_count": null,
   "id": "other-sacrifice",
   "metadata": {},
   "outputs": [],
   "source": []
  }
 ],
 "metadata": {
  "kernelspec": {
   "display_name": "transformers",
   "language": "python",
   "name": "transformers"
  },
  "language_info": {
   "codemirror_mode": {
    "name": "ipython",
    "version": 3
   },
   "file_extension": ".py",
   "mimetype": "text/x-python",
   "name": "python",
   "nbconvert_exporter": "python",
   "pygments_lexer": "ipython3",
   "version": "3.8.8"
  }
 },
 "nbformat": 4,
 "nbformat_minor": 5
}
